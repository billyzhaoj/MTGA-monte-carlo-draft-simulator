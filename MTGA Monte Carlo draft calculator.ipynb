{
 "cells": [
  {
   "cell_type": "code",
   "execution_count": 9,
   "metadata": {},
   "outputs": [],
   "source": [
    "import numpy as np\n",
    "import math\n",
    "import matplotlib.pyplot as plt"
   ]
  },
  {
   "cell_type": "code",
   "execution_count": 111,
   "metadata": {},
   "outputs": [],
   "source": [
    "class Configuration:\n",
    "    def __init__(self,total_unique_rares,num_copies,num_simulations,unopened_packs,rares_per_draft,packs_per_draft):\n",
    "        # This is a constructor for a class that initializes the variables passed in.\n",
    "        # All that this does is saves the passed in variables into the private storage of the class\n",
    "        vars = locals() # dict of local names\n",
    "        self.__dict__.update(vars) # __dict__ holds and object's attributes\n",
    "        del self.__dict__[\"self\"] # don't need `self`\n",
    "\n",
    "def single_user_simulation(config,starting_collection):\n",
    "    completed = list(starting_collection).count(config.num_copies) # Number of rares that the player owns 4 copies of\n",
    "    current_total = sum(starting_collection) # Total number of rares in set\n",
    "    drafted_rares = 0 # Current tally of drafted rares\n",
    "    num_drafts = 0    # Current tally of drafts done (drafted_rares / rares_per_draft)\n",
    "    stopping_criteria = config.total_unique_rares * config.num_copies - current_total\n",
    "                      # Number of total unopened packs needed before the player can stop drafting\n",
    "    while (config.unopened_packs + num_drafts * config.packs_per_draft < stopping_criteria):\n",
    "        drafted_rares += 1  # Increment number of drafted rares\n",
    "        num_drafts = float(drafted_rares) / config.rares_per_draft # Recompute number of drafts done based off of rares drafted\n",
    "        rare_card = int(config.total_unique_rares * np.random.random()) # Get the random rare that's drafted\n",
    "        if starting_collection[rare_card] < config.num_copies: # If you don't own 4 copies of the rare card\n",
    "            current_total += 1 # Add one rare to your total rares in the set\n",
    "            starting_collection[rare_card] += 1 # Add one copy to your collection\n",
    "        stopping_criteria = config.total_unique_rares * config.num_copies - current_total \n",
    "                                                # Adjust the number of unopened packs needed before stopping your draft\n",
    "    return num_drafts # Retrun the number of drafts needed in this simulation\n",
    "\n",
    "def multi_user_simulation(config,starting_collection):\n",
    "    data = [0] * config.num_simulations # Create an empty of array with length of the total number of simulations done\n",
    "    for i in range(config.num_simulations): # Loop over num_simulations times\n",
    "        data[i] = single_user_simulation(config,starting_collection.copy()) # Run a random experiment\n",
    "    return data #Return the array"
   ]
  },
  {
   "cell_type": "code",
   "execution_count": 127,
   "metadata": {},
   "outputs": [],
   "source": [
    "cfg = Configuration( # Configuration class initialization\n",
    "        total_unique_rares= 52,\n",
    "        num_copies = 4,\n",
    "        num_simulations = 10000,\n",
    "        unopened_packs = 4,\n",
    "        rares_per_draft = 1.5,\n",
    "        packs_per_draft = 1.5)\n",
    "starting_collection = (5*np.random.random(52)).astype(int) # A list of random starting collection"
   ]
  },
  {
   "cell_type": "code",
   "execution_count": 179,
   "metadata": {},
   "outputs": [],
   "source": [
    "x = multi_user_simulation(cfg,starting_collection)"
   ]
  },
  {
   "cell_type": "code",
   "execution_count": 180,
   "metadata": {},
   "outputs": [
    {
     "data": {
      "text/plain": [
       "(array([  34.,  114., 1438., 1674., 2047., 3204.,  873.,  530.,   60.,\n",
       "          26.]),\n",
       " array([36.66666667, 37.6       , 38.53333333, 39.46666667, 40.4       ,\n",
       "        41.33333333, 42.26666667, 43.2       , 44.13333333, 45.06666667,\n",
       "        46.        ]),\n",
       " <a list of 10 Patch objects>)"
      ]
     },
     "execution_count": 180,
     "metadata": {},
     "output_type": "execute_result"
    },
    {
     "data": {
      "image/png": "[encoded data removed]",
      "text/plain": [
       "<Figure size 432x288 with 1 Axes>"
      ]
     },
     "metadata": {},
     "output_type": "display_data"
    }
   ],
   "source": [
    "plt.figure()\n",
    "plt.title(\"Histogram of number of drafts needed before completing the set\")\n",
    "plt.xlabel(\"Number of drafts\")\n",
    "plt.ylabel(\"Number of simulations\")\n",
    "plt.hist(x)"
   ]
  },
  {
   "cell_type": "code",
   "execution_count": 181,
   "metadata": {},
   "outputs": [
    {
     "name": "stdout",
     "output_type": "stream",
     "text": [
      "mean 40.95426666666666 variance 1.7282195733333334\n",
      "min 36.666666666666664 max 46.0\n",
      "25th percentile 40.0 75th percentile 42.0\n"
     ]
    }
   ],
   "source": [
    "y = np.asarray(x)\n",
    "print(\"mean\",np.mean(y),\"variance\",np.var(y))\n",
    "print(\"min\",np.min(y),\"max\",np.max(y))\n",
    "print(\"25th percentile\",np.percentile(y,25),\"75th percentile\",np.percentile(y,75))"
   ]
  },
  {
   "cell_type": "code",
   "execution_count": null,
   "metadata": {},
   "outputs": [],
   "source": []
  },
  {
   "cell_type": "code",
   "execution_count": null,
   "metadata": {},
   "outputs": [],
   "source": []
  }
 ],
 "metadata": {
  "kernelspec": {
   "display_name": "Python 3",
   "language": "python",
   "name": "python3"
  },
  "language_info": {
   "codemirror_mode": {
    "name": "ipython",
    "version": 3
   },
   "file_extension": ".py",
   "mimetype": "text/x-python",
   "name": "python",
   "nbconvert_exporter": "python",
   "pygments_lexer": "ipython3",
   "version": "3.5.2"
  }
 },
 "nbformat": 4,
 "nbformat_minor": 2
}
